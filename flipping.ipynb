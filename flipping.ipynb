{
 "cells": [
  {
   "cell_type": "markdown",
   "metadata": {},
   "source": [
    "# Testing the Flipping model\n",
    "\n",
    "This notebook can be used to easily inspect and test the modified slimstampen model with flipping functionality."
   ]
  },
  {
   "cell_type": "markdown",
   "metadata": {},
   "source": [
    "## Import the modules"
   ]
  },
  {
   "cell_type": "code",
   "execution_count": null,
   "metadata": {},
   "outputs": [],
   "source": [
    "import csv\n",
    "from time import time\n",
    "from slimstampen.flippingmodel import FlippingModel, Fact, Response"
   ]
  },
  {
   "cell_type": "markdown",
   "metadata": {},
   "source": [
    "## Initialize the model"
   ]
  },
  {
   "cell_type": "code",
   "execution_count": null,
   "metadata": {},
   "outputs": [],
   "source": [
    "m = FlippingModel()"
   ]
  },
  {
   "cell_type": "markdown",
   "metadata": {},
   "source": [
    "## Load the data"
   ]
  },
  {
   "cell_type": "code",
   "execution_count": null,
   "metadata": {},
   "outputs": [],
   "source": [
    "with open(\"./data/swahili.csv\", encoding=\"utf-8\") as file:\n",
    "    csvreader = csv.reader(file)\n",
    "    for row in csvreader:\n",
    "        fact = Fact(*row)\n",
    "        m.add_fact(fact)"
   ]
  },
  {
   "cell_type": "code",
   "execution_count": null,
   "metadata": {},
   "outputs": [],
   "source": [
    "m.facts"
   ]
  },
  {
   "cell_type": "markdown",
   "metadata": {},
   "source": [
    "## Initialize the session\n",
    "\n",
    "Set the `DURATION` variable to the desired number of minutes"
   ]
  },
  {
   "cell_type": "code",
   "execution_count": null,
   "metadata": {},
   "outputs": [],
   "source": [
    "DURATION = 1\n",
    "\n",
    "start = time()\n",
    "end = start + (DURATION*60)\n",
    "startMs = start*1000"
   ]
  },
  {
   "cell_type": "markdown",
   "metadata": {},
   "source": [
    "## Start the session\n",
    "This will run a whole session at once. If you want to use individual inputs, use the methods below this one"
   ]
  },
  {
   "cell_type": "code",
   "execution_count": null,
   "metadata": {},
   "outputs": [],
   "source": [
    "while start < end:\n",
    "\n",
    "    fact, new = m.get_next_fact(int(time()*1000 - startMs))\n",
    "\n",
    "    presTime = int(time()*1000 - startMs)\n",
    "    if new:\n",
    "        answer = input(f\"New vocabulary: {fact.answer} means {fact.question}!\\nPlease type what {fact.question} means below.\\n\").strip()\n",
    "    else:\n",
    "        answer = input(f\"What is the translation of {fact.question}?\\n\").strip()\n",
    "    rt = int(time()*1000 - startMs) - presTime\n",
    "    correct = False\n",
    "    if answer == fact.answer:\n",
    "        correct = True\n",
    "\n",
    "    resp = Response(fact, presTime, rt, correct)\n",
    "    m.register_response(resp)\n",
    "\n",
    "    start = time()"
   ]
  },
  {
   "cell_type": "markdown",
   "metadata": {},
   "source": [
    "## Run individual trial"
   ]
  },
  {
   "cell_type": "code",
   "execution_count": null,
   "metadata": {},
   "outputs": [],
   "source": [
    "fact, new = m.get_next_fact(int(time()*1000 - startMs))\n",
    "\n",
    "presTime = int(time()*1000 - startMs)\n",
    "if new:\n",
    "    answer = input(f\"New vocabulary: {fact.answer} means {fact.question}!\\nPlease type what {fact.question} means below.\\n\").strip()\n",
    "else:\n",
    "    answer = input(f\"What is the translation of {fact.question}?\\n\").strip()\n",
    "rt = int(time()*1000 - startMs) - presTime\n",
    "correct = False\n",
    "if answer == fact.answer:\n",
    "    correct = True\n",
    "\n",
    "resp = Response(fact, presTime, rt, correct)\n",
    "m.register_response(resp)"
   ]
  },
  {
   "cell_type": "markdown",
   "metadata": {},
   "source": [
    "## Analyze data"
   ]
  },
  {
   "cell_type": "code",
   "execution_count": null,
   "metadata": {},
   "outputs": [],
   "source": [
    "m.responses"
   ]
  },
  {
   "cell_type": "markdown",
   "metadata": {},
   "source": [
    "## Export data"
   ]
  },
  {
   "cell_type": "code",
   "execution_count": null,
   "metadata": {},
   "outputs": [],
   "source": [
    "m.export_data(\"data.csv\")"
   ]
  }
 ],
 "metadata": {
  "kernelspec": {
   "display_name": "Python 3.9.7 ('.venv': venv)",
   "language": "python",
   "name": "python3"
  },
  "language_info": {
   "codemirror_mode": {
    "name": "ipython",
    "version": 3
   },
   "file_extension": ".py",
   "mimetype": "text/x-python",
   "name": "python",
   "nbconvert_exporter": "python",
   "pygments_lexer": "ipython3",
   "version": "3.9.7"
  },
  "orig_nbformat": 4,
  "vscode": {
   "interpreter": {
    "hash": "ce4c1b546583f9fe5eacffd437e33f024f9d70087f5f9b177a5f872df3e3f565"
   }
  }
 },
 "nbformat": 4,
 "nbformat_minor": 2
}

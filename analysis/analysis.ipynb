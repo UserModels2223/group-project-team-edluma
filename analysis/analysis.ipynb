{
 "cells": [
  {
   "cell_type": "code",
   "execution_count": 1,
   "metadata": {},
   "outputs": [],
   "source": [
    "import pandas as pd\n",
    "import matplotlib.pyplot as plt\n",
    "from analysis import load_data, get_flipped, get_trial_stats, get_correct_scores, get_flipping_stats"
   ]
  },
  {
   "cell_type": "code",
   "execution_count": 2,
   "metadata": {},
   "outputs": [],
   "source": [
    "test_df, experiment_df = load_data()"
   ]
  },
  {
   "cell_type": "code",
   "execution_count": null,
   "metadata": {},
   "outputs": [],
   "source": [
    "test_df.shape[0]"
   ]
  },
  {
   "cell_type": "code",
   "execution_count": null,
   "metadata": {},
   "outputs": [],
   "source": [
    "test_df.info()"
   ]
  },
  {
   "cell_type": "code",
   "execution_count": null,
   "metadata": {},
   "outputs": [],
   "source": [
    "test_df.groupby(\"subject\")[\"correct\"].value_counts().xs(True, level=1)"
   ]
  },
  {
   "cell_type": "code",
   "execution_count": null,
   "metadata": {},
   "outputs": [],
   "source": [
    "experiment_df.groupby(\"subject\")[\"correct\"].value_counts()"
   ]
  },
  {
   "cell_type": "code",
   "execution_count": null,
   "metadata": {},
   "outputs": [],
   "source": [
    "test_df.groupby(\"subject\")[\"correct\"].value_counts(normalize=True).xs(True,level=1).mean()"
   ]
  },
  {
   "cell_type": "code",
   "execution_count": null,
   "metadata": {},
   "outputs": [],
   "source": [
    "experiment_df[experiment_df[\"rt\"] < float(\"inf\")].groupby(\"subject\")[\"rt\"].describe()"
   ]
  },
  {
   "cell_type": "code",
   "execution_count": null,
   "metadata": {},
   "outputs": [],
   "source": [
    "experiment_df.groupby(\"subject\")[\"flipped\"].value_counts()"
   ]
  },
  {
   "cell_type": "code",
   "execution_count": null,
   "metadata": {},
   "outputs": [],
   "source": [
    "experiment_df[experiment_df[\"flipped\"] == True]"
   ]
  },
  {
   "cell_type": "code",
   "execution_count": null,
   "metadata": {},
   "outputs": [],
   "source": [
    "experiment_df[\"subject\"].value_counts()"
   ]
  },
  {
   "cell_type": "code",
   "execution_count": 10,
   "metadata": {},
   "outputs": [
    {
     "data": {
      "text/plain": [
       "{'count': subject\n",
       " subject_0    8\n",
       " subject_1    4\n",
       " subject_2    2\n",
       " subject_3    3\n",
       " subject_4    2\n",
       " subject_5    2\n",
       " subject_6    5\n",
       " Name: correct, dtype: int64,\n",
       " 'frequency': subject\n",
       " subject_0    0.888889\n",
       " subject_1    0.666667\n",
       " subject_2    0.666667\n",
       " subject_3    0.750000\n",
       " subject_4    0.400000\n",
       " subject_5    0.500000\n",
       " subject_6    1.000000\n",
       " Name: correct, dtype: float64,\n",
       " 'mean': 0.696031746031746,\n",
       " 'std': 0.2082830627179453}"
      ]
     },
     "execution_count": 10,
     "metadata": {},
     "output_type": "execute_result"
    }
   ],
   "source": [
    "df = get_flipped(test_df, is_test=True)\n",
    "get_correct_scores(df)"
   ]
  },
  {
   "cell_type": "code",
   "execution_count": 11,
   "metadata": {},
   "outputs": [
    {
     "data": {
      "text/plain": [
       "{'count': subject\n",
       " subject_0    15\n",
       " subject_1     9\n",
       " subject_2     2\n",
       " subject_3     6\n",
       " subject_4     4\n",
       " subject_5     3\n",
       " subject_6     7\n",
       " Name: correct, dtype: int64,\n",
       " 'frequency': subject\n",
       " subject_0    0.833333\n",
       " subject_1    0.692308\n",
       " subject_2    0.285714\n",
       " subject_3    0.666667\n",
       " subject_4    0.363636\n",
       " subject_5    0.375000\n",
       " subject_6    0.636364\n",
       " Name: correct, dtype: float64,\n",
       " 'mean': 0.5504317111459968,\n",
       " 'std': 0.2068820456916505}"
      ]
     },
     "execution_count": 11,
     "metadata": {},
     "output_type": "execute_result"
    }
   ],
   "source": [
    "get_correct_scores(test_df)"
   ]
  },
  {
   "cell_type": "code",
   "execution_count": null,
   "metadata": {},
   "outputs": [],
   "source": [
    "experiment_df.groupby(\"subject\")[\"flipped\"].value_counts(normalize=True).xs(True,level=1)"
   ]
  },
  {
   "cell_type": "code",
   "execution_count": null,
   "metadata": {},
   "outputs": [],
   "source": [
    "print(get_correct_scores(experiment_df))"
   ]
  },
  {
   "cell_type": "code",
   "execution_count": 3,
   "metadata": {},
   "outputs": [
    {
     "name": "stdout",
     "output_type": "stream",
     "text": [
      "{'count': subject_4    62\n",
      "subject_0    59\n",
      "subject_3    52\n",
      "subject_6    52\n",
      "subject_5    37\n",
      "subject_1    17\n",
      "subject_2    17\n",
      "Name: subject, dtype: int64, 'frequency': [0.59, 0.22972972972972974, 0.25757575757575757, 0.49523809523809526, 0.5081967213114754, 0.43023255813953487, 0.46846846846846846], 'mean': 0.42563447578043734, 'std': 0.13363851076784034}\n"
     ]
    }
   ],
   "source": [
    "print(get_flipping_stats(experiment_df, is_test=True))"
   ]
  },
  {
   "cell_type": "code",
   "execution_count": 30,
   "metadata": {},
   "outputs": [
    {
     "name": "stdout",
     "output_type": "stream",
     "text": [
      "subject_0    18\n",
      "subject_1    13\n",
      "subject_2     7\n",
      "subject_3     9\n",
      "subject_4    11\n",
      "subject_5     8\n",
      "subject_6    11\n",
      "Name: subject, dtype: int64\n",
      "subject_0    100\n",
      "subject_1     74\n",
      "subject_2     66\n",
      "subject_3    105\n",
      "subject_4    122\n",
      "subject_5     86\n",
      "subject_6    111\n",
      "Name: subject, dtype: int64\n"
     ]
    },
    {
     "data": {
      "image/png": "[encoded data removed]",
      "text/plain": [
       "<Figure size 640x480 with 2 Axes>"
      ]
     },
     "metadata": {},
     "output_type": "display_data"
    }
   ],
   "source": [
    "exp_stats = get_trial_stats(experiment_df)\n",
    "\n",
    "test_stats = get_trial_stats(test_df)\n",
    "\n",
    "print(test_stats[\"count\"])\n",
    "print(exp_stats[\"count\"])\n",
    "\n",
    "fig = plt.figure()\n",
    "\n",
    "ax1 = fig.add_subplot(111)\n",
    "ax2 = ax1.twinx()\n",
    "\n",
    "exp_stats[\"count\"].plot(kind=\"bar\", color=\"blue\", ax=ax1, width = 0.4, position=1)\n",
    "\n",
    "test_stats[\"count\"].plot(kind=\"bar\", color=\"orange\", ax=ax2, width = 0.4, position=0)\n",
    "\n",
    "ax1.set_xlabel(\"Participant\")\n",
    "ax1.set_ylabel(\"Number of Trials\")\n",
    "ax2.set_ylabel(\"Number of Learned Words\")\n",
    "ax2.set_ybound(upper=130)\n",
    "ax1.set_ybound(upper=130)\n",
    "\n",
    "fig.savefig(\"trials.png\", dpi=300, bbox_inches = \"tight\", transparent=True)"
   ]
  },
  {
   "cell_type": "code",
   "execution_count": 44,
   "metadata": {},
   "outputs": [
    {
     "name": "stdout",
     "output_type": "stream",
     "text": [
      "subject\n",
      "subject_0    0.833333\n",
      "subject_1    0.692308\n",
      "subject_2    0.285714\n",
      "subject_3    0.666667\n",
      "subject_4    0.363636\n",
      "subject_5    0.375000\n",
      "subject_6    0.636364\n",
      "Name: correct, dtype: float64\n",
      "subject\n",
      "subject_0    0.800000\n",
      "subject_1    0.810811\n",
      "subject_2    0.439394\n",
      "subject_3    0.428571\n",
      "subject_4    0.254098\n",
      "subject_5    0.279070\n",
      "subject_6    0.360360\n",
      "Name: correct, dtype: float64\n"
     ]
    },
    {
     "data": {
      "image/png": "[encoded data removed]",
      "text/plain": [
       "<Figure size 640x480 with 2 Axes>"
      ]
     },
     "metadata": {},
     "output_type": "display_data"
    }
   ],
   "source": [
    "exp_stats = get_correct_scores(experiment_df)\n",
    "\n",
    "test_stats = get_correct_scores(test_df)\n",
    "\n",
    "print(test_stats[\"frequency\"])\n",
    "print(exp_stats[\"frequency\"])\n",
    "\n",
    "fig = plt.figure()\n",
    "\n",
    "ax1 = fig.add_subplot(111)\n",
    "ax2 = ax1.twinx()\n",
    "\n",
    "test_freq_perc = test_stats[\"frequency\"] * 100\n",
    "\n",
    "exp_freq_perc = exp_stats[\"frequency\"] * 100\n",
    "\n",
    "exp_freq_perc.plot(kind=\"bar\", color=\"orange\", ax=ax1, width = 0.4, position=0)\n",
    "\n",
    "test_freq_perc.plot(kind=\"bar\", color=\"blue\", ax=ax2, width = 0.4, position=1)\n",
    "\n",
    "ax1.set_xlabel(\"Participant\")\n",
    "ax1.set_ylabel(\"Correct Trials\")\n",
    "ax2.set_ylabel(\"Correct Test Questions\")\n",
    "ax2.set_ybound(upper=100)\n",
    "ax1.set_ybound(upper=100)\n",
    "\n",
    "fig.savefig(\"correct.png\", dpi=300, bbox_inches = \"tight\", transparent=True)"
   ]
  },
  {
   "cell_type": "code",
   "execution_count": 73,
   "metadata": {},
   "outputs": [
    {
     "name": "stdout",
     "output_type": "stream",
     "text": [
      "subject\n",
      "subject_0    0.833333\n",
      "subject_1    0.692308\n",
      "subject_2    0.285714\n",
      "subject_3    0.666667\n",
      "subject_4    0.363636\n",
      "subject_5    0.375000\n",
      "subject_6    0.636364\n",
      "Name: correct, dtype: float64\n",
      "subject\n",
      "subject_0    0.800000\n",
      "subject_1    0.810811\n",
      "subject_2    0.439394\n",
      "subject_3    0.428571\n",
      "subject_4    0.254098\n",
      "subject_5    0.279070\n",
      "subject_6    0.360360\n",
      "Name: correct, dtype: float64\n"
     ]
    },
    {
     "data": {
      "image/png": "[encoded data removed]",
      "text/plain": [
       "<Figure size 640x480 with 2 Axes>"
      ]
     },
     "metadata": {},
     "output_type": "display_data"
    }
   ],
   "source": [
    "test_flipped = get_flipped(test_df, is_test=True)\n",
    "\n",
    "exp_flipped = get_flipped(experiment_df)\n",
    "\n",
    "exp_stats_flipped = get_correct_scores(exp_flipped)\n",
    "\n",
    "test_stats_flipped = get_correct_scores(test_flipped)\n",
    "\n",
    "exp_stats = get_correct_scores(experiment_df)\n",
    "\n",
    "test_stats = get_correct_scores(test_df)\n",
    "\n",
    "print(test_stats[\"frequency\"])\n",
    "print(exp_stats[\"frequency\"])\n",
    "\n",
    "fig = plt.figure()\n",
    "\n",
    "ax1 = fig.add_subplot(111)\n",
    "ax2 = ax1.twinx()\n",
    "\n",
    "test_flip_freq_perc = test_stats_flipped[\"frequency\"] * 100\n",
    "\n",
    "exp_flip_freq_perc = exp_stats_flipped[\"frequency\"] * 100\n",
    "\n",
    "test_freq_perc = test_stats[\"frequency\"] * 100\n",
    "\n",
    "exp_freq_perc = exp_stats[\"frequency\"] * 100\n",
    "\n",
    "\n",
    "exp_flip_freq_perc.plot(kind=\"bar\", color=\"lightblue\", ax=ax1, width = 0.4, position=1)\n",
    "exp_freq_perc.plot(kind=\"bar\", color=\"blue\", ax=ax1, width = 0.4, position=1, alpha=0.4)\n",
    "\n",
    "test_flip_freq_perc.plot(kind=\"bar\", color=\"orangered\", ax=ax2, width = 0.4, position=0)\n",
    "test_freq_perc.plot(kind=\"bar\", color=\"orange\", ax=ax2, width = 0.4, position=0, alpha=0.5)\n",
    "\n",
    "ax1.set_xlabel(\"Participant\")\n",
    "ax1.set_ylabel(\"Correct Trials\")\n",
    "ax2.set_ylabel(\"Correct Test Questions\")\n",
    "ax2.set_ybound(upper=100)\n",
    "ax1.set_ybound(upper=100)\n",
    "\n",
    "fig.savefig(\"correct_flipped2.png\", dpi=300, bbox_inches = \"tight\", transparent=True)"
   ]
  }
 ],
 "metadata": {
  "kernelspec": {
   "display_name": "Python 3.9.7 ('.venv': venv)",
   "language": "python",
   "name": "python3"
  },
  "language_info": {
   "codemirror_mode": {
    "name": "ipython",
    "version": 3
   },
   "file_extension": ".py",
   "mimetype": "text/x-python",
   "name": "python",
   "nbconvert_exporter": "python",
   "pygments_lexer": "ipython3",
   "version": "3.9.7"
  },
  "orig_nbformat": 4,
  "vscode": {
   "interpreter": {
    "hash": "ce4c1b546583f9fe5eacffd437e33f024f9d70087f5f9b177a5f872df3e3f565"
   }
  }
 },
 "nbformat": 4,
 "nbformat_minor": 2
}

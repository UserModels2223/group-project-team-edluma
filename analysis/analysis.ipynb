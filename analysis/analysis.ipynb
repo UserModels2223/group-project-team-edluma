{
 "cells": [
  {
   "cell_type": "code",
   "execution_count": 1,
   "metadata": {},
   "outputs": [],
   "source": [
    "import pandas as pd\n",
    "import matplotlib.pyplot as plt\n",
    "from analysis import load_data, get_flipped, get_trial_stats, get_correct_scores, get_flipping_stats"
   ]
  },
  {
   "cell_type": "code",
   "execution_count": 2,
   "metadata": {},
   "outputs": [],
   "source": [
    "test_df, experiment_df = load_data()"
   ]
  },
  {
   "cell_type": "code",
   "execution_count": 3,
   "metadata": {},
   "outputs": [
    {
     "data": {
      "text/plain": [
       "955"
      ]
     },
     "execution_count": 3,
     "metadata": {},
     "output_type": "execute_result"
    }
   ],
   "source": [
    "experiment_df.shape[0]"
   ]
  },
  {
   "cell_type": "code",
   "execution_count": 4,
   "metadata": {},
   "outputs": [
    {
     "name": "stdout",
     "output_type": "stream",
     "text": [
      "<class 'pandas.core.frame.DataFrame'>\n",
      "RangeIndex: 955 entries, 0 to 954\n",
      "Data columns (total 13 columns):\n",
      " #   Column           Non-Null Count  Dtype   \n",
      "---  ------           --------------  -----   \n",
      " 0   trial            955 non-null    int64   \n",
      " 1   start_time       955 non-null    float64 \n",
      " 2   rt               955 non-null    float64 \n",
      " 3   correct          955 non-null    bool    \n",
      " 4   fact_id          955 non-null    int64   \n",
      " 5   question         955 non-null    string  \n",
      " 6   answer           955 non-null    string  \n",
      " 7   flipped          955 non-null    bool    \n",
      " 8   alpha            955 non-null    float64 \n",
      " 9   activation       955 non-null    float64 \n",
      " 10  flip_alpha       955 non-null    float64 \n",
      " 11  flip_activation  955 non-null    float64 \n",
      " 12  subject          955 non-null    category\n",
      "dtypes: bool(2), category(1), float64(6), int64(2), string(2)\n",
      "memory usage: 77.9 KB\n"
     ]
    }
   ],
   "source": [
    "experiment_df.info()"
   ]
  },
  {
   "cell_type": "code",
   "execution_count": null,
   "metadata": {},
   "outputs": [],
   "source": [
    "test_df.groupby(\"subject\")[\"correct\"].value_counts().xs(True, level=1)"
   ]
  },
  {
   "cell_type": "code",
   "execution_count": null,
   "metadata": {},
   "outputs": [],
   "source": [
    "experiment_df.groupby(\"subject\")[\"correct\"].value_counts()"
   ]
  },
  {
   "cell_type": "code",
   "execution_count": null,
   "metadata": {},
   "outputs": [],
   "source": [
    "test_df.groupby(\"subject\")[\"correct\"].value_counts(normalize=True).xs(True,level=1).mean()"
   ]
  },
  {
   "cell_type": "code",
   "execution_count": null,
   "metadata": {},
   "outputs": [],
   "source": [
    "experiment_df[experiment_df[\"rt\"] < float(\"inf\")].groupby(\"subject\")[\"rt\"].describe()"
   ]
  },
  {
   "cell_type": "code",
   "execution_count": null,
   "metadata": {},
   "outputs": [],
   "source": [
    "experiment_df.groupby(\"subject\")[\"flipped\"].value_counts()"
   ]
  },
  {
   "cell_type": "code",
   "execution_count": null,
   "metadata": {},
   "outputs": [],
   "source": [
    "experiment_df[experiment_df[\"flipped\"] == True]"
   ]
  },
  {
   "cell_type": "code",
   "execution_count": null,
   "metadata": {},
   "outputs": [],
   "source": [
    "experiment_df[\"subject\"].value_counts()"
   ]
  },
  {
   "cell_type": "code",
   "execution_count": null,
   "metadata": {},
   "outputs": [],
   "source": [
    "df = get_flipped(test_df, is_test=True)\n",
    "get_correct_scores(df)"
   ]
  },
  {
   "cell_type": "code",
   "execution_count": null,
   "metadata": {},
   "outputs": [],
   "source": [
    "get_correct_scores(test_df)"
   ]
  },
  {
   "cell_type": "code",
   "execution_count": null,
   "metadata": {},
   "outputs": [],
   "source": [
    "experiment_df.groupby(\"subject\")[\"flipped\"].value_counts(normalize=True).xs(True,level=1)"
   ]
  },
  {
   "cell_type": "code",
   "execution_count": null,
   "metadata": {},
   "outputs": [],
   "source": [
    "print(get_correct_scores(experiment_df))"
   ]
  },
  {
   "cell_type": "code",
   "execution_count": null,
   "metadata": {},
   "outputs": [],
   "source": [
    "print(get_flipping_stats(experiment_df[~experiment_df[\"subject\"].isin([\"subject_8\", \"subject_9\"])], is_test=False))"
   ]
  },
  {
   "cell_type": "code",
   "execution_count": 24,
   "metadata": {},
   "outputs": [
    {
     "name": "stdout",
     "output_type": "stream",
     "text": [
      "subject\n",
      "subject_4    50.819672\n",
      "subject_5    43.023256\n",
      "subject_7    40.776699\n",
      "subject_6    46.846847\n",
      "subject_2    25.757576\n",
      "subject_3    49.523810\n",
      "subject_1    22.972973\n",
      "subject_0    59.000000\n",
      "Name: flipped, dtype: float64\n"
     ]
    },
    {
     "data": {
      "image/png": "[encoded data removed]",
      "text/plain": [
       "<Figure size 640x480 with 1 Axes>"
      ]
     },
     "metadata": {},
     "output_type": "display_data"
    }
   ],
   "source": [
    "flipped = experiment_df[~experiment_df[\"subject\"].isin([\"subject_8\", \"subject_9\"])].groupby(\"subject\", observed=True)[\"flipped\"].value_counts(sort=False,normalize=True).xs(True, level=1) * 100\n",
    "\n",
    "fig = plt.figure()\n",
    "\n",
    "ax1 = fig.add_subplot(111)\n",
    "\n",
    "print(flipped)\n",
    "\n",
    "flipped.plot(kind=\"bar\", color=\"lightskyblue\", ax=ax1, width = 0.6,)\n",
    "\n",
    "ax1.set_xlabel(\"Participant\")\n",
    "ax1.set_ylabel(\"Percentage flipped trials\")\n",
    "ax1.set_ybound(upper=100)\n",
    "\n",
    "fig.savefig(\"flipped.png\", dpi=300, bbox_inches = \"tight\", transparent=True)"
   ]
  },
  {
   "cell_type": "code",
   "execution_count": null,
   "metadata": {},
   "outputs": [],
   "source": [
    "exp_stats = get_trial_stats(experiment_df)\n",
    "\n",
    "test_stats = get_trial_stats(test_df)\n",
    "\n",
    "print(test_stats)\n",
    "print(exp_stats)\n",
    "\n",
    "fig = plt.figure()\n",
    "\n",
    "ax1 = fig.add_subplot(111)\n",
    "ax2 = ax1.twinx()\n",
    "\n",
    "exp_stats[\"count\"].plot(kind=\"bar\", color=\"blue\", ax=ax1, width = 0.4, position=1)\n",
    "\n",
    "test_stats[\"count\"].plot(kind=\"bar\", color=\"orange\", ax=ax2, width = 0.4, position=0)\n",
    "\n",
    "ax1.set_xlabel(\"Participant\")\n",
    "ax1.set_ylabel(\"Number of Trials\")\n",
    "ax2.set_ylabel(\"Number of Learned Words\")\n",
    "ax2.set_ybound(upper=130)\n",
    "ax1.set_ybound(upper=130)\n",
    "\n",
    "fig.savefig(\"trials.png\", dpi=300, bbox_inches = \"tight\", transparent=True)"
   ]
  },
  {
   "cell_type": "code",
   "execution_count": null,
   "metadata": {},
   "outputs": [],
   "source": [
    "exp_stats = get_correct_scores(experiment_df)\n",
    "\n",
    "test_stats = get_correct_scores(test_df)\n",
    "\n",
    "print(test_stats)\n",
    "print(exp_stats)\n",
    "\n",
    "fig = plt.figure()\n",
    "\n",
    "ax1 = fig.add_subplot(111)\n",
    "ax2 = ax1.twinx()\n",
    "\n",
    "test_freq_perc = test_stats[\"frequency\"] * 100\n",
    "\n",
    "exp_freq_perc = exp_stats[\"frequency\"] * 100\n",
    "\n",
    "exp_freq_perc.plot(kind=\"bar\", color=\"lightskyblue\", ax=ax1, width = 0.4, position=1)\n",
    "\n",
    "test_freq_perc.plot(kind=\"bar\", color=\"lightsalmon\", ax=ax2, width = 0.4, position=0)\n",
    "\n",
    "ax1.set_xlabel(\"Participant\")\n",
    "ax1.set_ylabel(\"Percentage correct trials\")\n",
    "ax2.set_ylabel(\"Percentage correct test questions\")\n",
    "ax2.set_ybound(upper=100)\n",
    "ax1.set_ybound(upper=100)\n",
    "\n",
    "fig.savefig(\"correct.png\", dpi=300, bbox_inches = \"tight\", transparent=True)"
   ]
  },
  {
   "cell_type": "code",
   "execution_count": 12,
   "metadata": {},
   "outputs": [
    {
     "data": {
      "image/png": "[encoded data removed]",
      "text/plain": [
       "<Figure size 640x480 with 2 Axes>"
      ]
     },
     "metadata": {},
     "output_type": "display_data"
    }
   ],
   "source": [
    "test_flipped = get_flipped(test_df, is_test=True)\n",
    "\n",
    "exp_flipped = get_flipped(experiment_df)\n",
    "\n",
    "exp_stats_flipped = get_correct_scores(exp_flipped[~exp_flipped[\"subject\"].isin([\"subject_8\", \"subject_9\"])])\n",
    "\n",
    "test_stats_flipped = get_correct_scores(test_flipped[~test_flipped[\"subject\"].isin([\"subject_8\", \"subject_9\"])])\n",
    "\n",
    "exp_stats = get_correct_scores(experiment_df[~experiment_df[\"subject\"].isin([\"subject_8\", \"subject_9\"])])\n",
    "\n",
    "test_stats = get_correct_scores(test_df[~test_df[\"subject\"].isin([\"subject_8\", \"subject_9\"])])\n",
    "\n",
    "#print(test_stats[\"frequency\"])\n",
    "#print(exp_stats[\"frequency\"])\n",
    "\n",
    "fig = plt.figure()\n",
    "\n",
    "ax1 = fig.add_subplot(111)\n",
    "ax2 = ax1.twinx()\n",
    "\n",
    "test_flip_freq_perc = test_stats_flipped[\"frequency\"] * 100 - test_stats[\"frequency\"] * 100\n",
    "\n",
    "exp_flip_freq_perc = exp_stats_flipped[\"frequency\"] * 100 - exp_stats[\"frequency\"] * 100\n",
    "\n",
    "\n",
    "exp_flip_freq_perc.plot(kind=\"bar\", color=\"lightskyblue\", ax=ax1, width = 0.4, position=1)\n",
    "\n",
    "test_flip_freq_perc.plot(kind=\"bar\", color=\"lightsalmon\", ax=ax2, width = 0.4, position=0)\n",
    "\n",
    "ax1.set_xlabel(\"Participant\")\n",
    "ax1.set_ylabel(\"Percentage correct trials\")\n",
    "ax2.set_ylabel(\"Percentage correct test questions\")\n",
    "ax2.set_ybound(upper=50, lower=-50)\n",
    "ax1.set_ybound(upper=50, lower=-50)\n",
    "\n",
    "plt.axhline(0, color=\"black\")\n",
    "\n",
    "fig.savefig(\"correct_flipped2.png\", dpi=300, bbox_inches = \"tight\", transparent=True)"
   ]
  },
  {
   "cell_type": "code",
   "execution_count": 15,
   "metadata": {},
   "outputs": [
    {
     "name": "stdout",
     "output_type": "stream",
     "text": [
      "subject\n",
      "subject_9    11.111111\n",
      "subject_8    -7.142857\n",
      "Name: correct, dtype: float64\n",
      "1.9841269841269877\n",
      "12.907504735944935\n"
     ]
    },
    {
     "data": {
      "image/png": "[encoded data removed]",
      "text/plain": [
       "<Figure size 640x480 with 1 Axes>"
      ]
     },
     "metadata": {},
     "output_type": "display_data"
    }
   ],
   "source": [
    "test_flipped = get_flipped(test_df, is_test=True)\n",
    "\n",
    "\n",
    "test_stats_flipped = get_correct_scores(test_flipped[test_flipped[\"subject\"].isin([\"subject_8\", \"subject_9\"])])\n",
    "\n",
    "\n",
    "test_stats = get_correct_scores(test_df[test_df[\"subject\"].isin([\"subject_8\", \"subject_9\"])])\n",
    "\n",
    "test_flip_freq_perc = test_stats_flipped[\"frequency\"] * 100 - test_stats[\"frequency\"] * 100\n",
    "\n",
    "print(test_flip_freq_perc)\n",
    "print(test_flip_freq_perc.mean())\n",
    "print(test_flip_freq_perc.std())\n",
    "\n",
    "fig = plt.figure()\n",
    "\n",
    "ax1 = fig.add_subplot(111)\n",
    "\n",
    "test_flip_freq_perc.plot(kind=\"bar\", color=\"lightsalmon\", ax=ax1, width = 0.5)\n",
    "\n",
    "ax1.set_xlabel(\"Participant\")\n",
    "ax1.set_ylabel(\"Percentage correct test questions\")\n",
    "ax1.set_ybound(upper=20, lower=-20)\n",
    "\n",
    "plt.axhline(0, color=\"black\")\n",
    "\n",
    "fig.savefig(\"correct_flipped3.png\", dpi=300, bbox_inches = \"tight\", transparent=True)"
   ]
  },
  {
   "cell_type": "code",
   "execution_count": 23,
   "metadata": {},
   "outputs": [
    {
     "name": "stdout",
     "output_type": "stream",
     "text": [
      "-0.0069841269841269815\n"
     ]
    },
    {
     "data": {
      "image/png": "[encoded data removed]",
      "text/plain": [
       "<Figure size 640x480 with 1 Axes>"
      ]
     },
     "metadata": {},
     "output_type": "display_data"
    }
   ],
   "source": [
    "test_flipped = get_flipped(test_df, is_test=True, reverse=True)\n",
    "\n",
    "\n",
    "test_stats_flipped = get_correct_scores(test_flipped[~test_flipped[\"subject\"].isin([\"subject_8\", \"subject_9\", \"subject_2\", \"subject_4\", \"subject_5\"])])\n",
    "\n",
    "test_stats_non_flipped = get_correct_scores(test_flipped[test_flipped[\"subject\"].isin([\"subject_8\", \"subject_9\"])])\n",
    "\n",
    "test_stats_all = get_correct_scores(test_flipped)\n",
    "\n",
    "diff = test_stats_flipped[\"mean\"] - test_stats_non_flipped[\"mean\"]\n",
    "\n",
    "print(diff)\n",
    "\n",
    "test_stats_all_freq = test_stats_all[\"frequency\"] * 100\n",
    "\n",
    "\n",
    "fig = plt.figure()\n",
    "\n",
    "ax1 = fig.add_subplot(111)\n",
    "\n",
    "test_stats_all_freq.plot(kind=\"bar\", color=\"lightsalmon\", ax=ax1, width = 0.5)\n",
    "\n",
    "ax1.set_xlabel(\"Participant\")\n",
    "ax1.set_ylabel(\"Percentage correct test questions\")\n",
    "ax1.set_ybound(upper=100)\n",
    "\n",
    "#plt.axhline(0, color=\"black\")\n",
    "\n",
    "fig.savefig(\"correct_flipped4.png\", dpi=300, bbox_inches = \"tight\", transparent=True)"
   ]
  },
  {
   "cell_type": "code",
   "execution_count": null,
   "metadata": {},
   "outputs": [],
   "source": [
    "test_flipped = get_flipped(test_df, is_test=True)\n",
    "\n",
    "exp_flipped = get_flipped(experiment_df)\n",
    "\n",
    "exp_stats_flipped = get_correct_scores(exp_flipped)\n",
    "\n",
    "test_stats_flipped = get_correct_scores(test_flipped)\n",
    "\n",
    "print(exp_stats_flipped)\n",
    "\n"
   ]
  },
  {
   "cell_type": "code",
   "execution_count": null,
   "metadata": {},
   "outputs": [],
   "source": [
    "print(test_stats_flipped)"
   ]
  }
 ],
 "metadata": {
  "kernelspec": {
   "display_name": "Python 3.9.7 ('.venv': venv)",
   "language": "python",
   "name": "python3"
  },
  "language_info": {
   "codemirror_mode": {
    "name": "ipython",
    "version": 3
   },
   "file_extension": ".py",
   "mimetype": "text/x-python",
   "name": "python",
   "nbconvert_exporter": "python",
   "pygments_lexer": "ipython3",
   "version": "3.9.7"
  },
  "orig_nbformat": 4,
  "vscode": {
   "interpreter": {
    "hash": "ce4c1b546583f9fe5eacffd437e33f024f9d70087f5f9b177a5f872df3e3f565"
   }
  }
 },
 "nbformat": 4,
 "nbformat_minor": 2
}

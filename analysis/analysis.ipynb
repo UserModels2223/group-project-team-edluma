{
 "cells": [
  {
   "cell_type": "code",
   "execution_count": 1,
   "metadata": {},
   "outputs": [],
   "source": [
    "import pandas as pd\n",
    "import matplotlib.pyplot as plt\n",
    "from analysis import load_data, get_flipped, get_trial_stats, get_correct_scores, get_flipping_stats"
   ]
  },
  {
   "cell_type": "code",
   "execution_count": 2,
   "metadata": {},
   "outputs": [],
   "source": [
    "test_df, experiment_df = load_data()"
   ]
  },
  {
   "cell_type": "code",
   "execution_count": null,
   "metadata": {},
   "outputs": [],
   "source": [
    "experiment_df.shape[0]"
   ]
  },
  {
   "cell_type": "code",
   "execution_count": null,
   "metadata": {},
   "outputs": [],
   "source": [
    "experiment_df.info()"
   ]
  },
  {
   "cell_type": "code",
   "execution_count": null,
   "metadata": {},
   "outputs": [],
   "source": [
    "test_df.groupby(\"subject\")[\"correct\"].value_counts().xs(True, level=1)"
   ]
  },
  {
   "cell_type": "code",
   "execution_count": null,
   "metadata": {},
   "outputs": [],
   "source": [
    "experiment_df.groupby(\"subject\")[\"correct\"].value_counts()"
   ]
  },
  {
   "cell_type": "code",
   "execution_count": null,
   "metadata": {},
   "outputs": [],
   "source": [
    "test_df.groupby(\"subject\")[\"correct\"].value_counts(normalize=True).xs(True,level=1).mean()"
   ]
  },
  {
   "cell_type": "code",
   "execution_count": null,
   "metadata": {},
   "outputs": [],
   "source": [
    "experiment_df[experiment_df[\"rt\"] < float(\"inf\")].groupby(\"subject\")[\"rt\"].describe()"
   ]
  },
  {
   "cell_type": "code",
   "execution_count": null,
   "metadata": {},
   "outputs": [],
   "source": [
    "experiment_df.groupby(\"subject\")[\"flipped\"].value_counts()"
   ]
  },
  {
   "cell_type": "code",
   "execution_count": null,
   "metadata": {},
   "outputs": [],
   "source": [
    "experiment_df[experiment_df[\"flipped\"] == True]"
   ]
  },
  {
   "cell_type": "code",
   "execution_count": null,
   "metadata": {},
   "outputs": [],
   "source": [
    "experiment_df[\"subject\"].value_counts()"
   ]
  },
  {
   "cell_type": "code",
   "execution_count": null,
   "metadata": {},
   "outputs": [],
   "source": [
    "df = get_flipped(test_df, is_test=True)\n",
    "get_correct_scores(df)"
   ]
  },
  {
   "cell_type": "code",
   "execution_count": null,
   "metadata": {},
   "outputs": [],
   "source": [
    "get_correct_scores(test_df)"
   ]
  },
  {
   "cell_type": "code",
   "execution_count": null,
   "metadata": {},
   "outputs": [],
   "source": [
    "experiment_df.groupby(\"subject\")[\"flipped\"].value_counts(normalize=True).xs(True,level=1)"
   ]
  },
  {
   "cell_type": "code",
   "execution_count": null,
   "metadata": {},
   "outputs": [],
   "source": [
    "print(get_correct_scores(experiment_df))"
   ]
  },
  {
   "cell_type": "code",
   "execution_count": 4,
   "metadata": {},
   "outputs": [
    {
     "name": "stdout",
     "output_type": "stream",
     "text": [
      "{'count': subject_4    62\n",
      "subject_0    59\n",
      "subject_3    52\n",
      "subject_6    52\n",
      "subject_7    42\n",
      "subject_5    37\n",
      "subject_1    17\n",
      "subject_2    17\n",
      "subject_8     0\n",
      "subject_9     0\n",
      "Name: subject, dtype: int64, 'frequency': [0.5081967213114754, 0.43023255813953487, 0.4077669902912621, 0.46846846846846846, 0.25757575757575757, 0.49523809523809526, 0.22972972972972974, 0.59], 'freq_keys': ['subject_4', 'subject_5', 'subject_7', 'subject_6', 'subject_2', 'subject_3', 'subject_1', 'subject_0'], 'mean': 0.4234010400942904, 'std': 0.12388638257894073}\n"
     ]
    }
   ],
   "source": [
    "print(get_flipping_stats(experiment_df[~experiment_df[\"subject\"].isin([\"subject_8\", \"subject_9\"])], is_test=False))"
   ]
  },
  {
   "cell_type": "code",
   "execution_count": 14,
   "metadata": {},
   "outputs": [
    {
     "data": {
      "image/png": "[encoded data removed]",
      "text/plain": [
       "<Figure size 640x480 with 1 Axes>"
      ]
     },
     "metadata": {},
     "output_type": "display_data"
    }
   ],
   "source": [
    "flipped = experiment_df[~experiment_df[\"subject\"].isin([\"subject_8\", \"subject_9\"])].groupby(\"subject\", observed=True)[\"flipped\"].value_counts(sort=False,normalize=True).xs(True, level=1) * 100\n",
    "\n",
    "fig = plt.figure()\n",
    "\n",
    "ax1 = fig.add_subplot(111)\n",
    "\n",
    "flipped.plot(kind=\"bar\", color=\"lightskyblue\", ax=ax1, width = 0.6,)\n",
    "\n",
    "ax1.set_xlabel(\"Participant\")\n",
    "ax1.set_ylabel(\"Percentage flipped trials\")\n",
    "ax1.set_ybound(upper=100)\n",
    "\n",
    "fig.savefig(\"flipped.png\", dpi=300, bbox_inches = \"tight\", transparent=True)"
   ]
  },
  {
   "cell_type": "code",
   "execution_count": null,
   "metadata": {},
   "outputs": [],
   "source": [
    "exp_stats = get_trial_stats(experiment_df)\n",
    "\n",
    "test_stats = get_trial_stats(test_df)\n",
    "\n",
    "print(test_stats)\n",
    "print(exp_stats)\n",
    "\n",
    "fig = plt.figure()\n",
    "\n",
    "ax1 = fig.add_subplot(111)\n",
    "ax2 = ax1.twinx()\n",
    "\n",
    "exp_stats[\"count\"].plot(kind=\"bar\", color=\"blue\", ax=ax1, width = 0.4, position=1)\n",
    "\n",
    "test_stats[\"count\"].plot(kind=\"bar\", color=\"orange\", ax=ax2, width = 0.4, position=0)\n",
    "\n",
    "ax1.set_xlabel(\"Participant\")\n",
    "ax1.set_ylabel(\"Number of Trials\")\n",
    "ax2.set_ylabel(\"Number of Learned Words\")\n",
    "ax2.set_ybound(upper=130)\n",
    "ax1.set_ybound(upper=130)\n",
    "\n",
    "fig.savefig(\"trials.png\", dpi=300, bbox_inches = \"tight\", transparent=True)"
   ]
  },
  {
   "cell_type": "code",
   "execution_count": null,
   "metadata": {},
   "outputs": [],
   "source": [
    "exp_stats = get_correct_scores(experiment_df)\n",
    "\n",
    "test_stats = get_correct_scores(test_df)\n",
    "\n",
    "print(test_stats)\n",
    "print(exp_stats)\n",
    "\n",
    "fig = plt.figure()\n",
    "\n",
    "ax1 = fig.add_subplot(111)\n",
    "ax2 = ax1.twinx()\n",
    "\n",
    "test_freq_perc = test_stats[\"frequency\"] * 100\n",
    "\n",
    "exp_freq_perc = exp_stats[\"frequency\"] * 100\n",
    "\n",
    "exp_freq_perc.plot(kind=\"bar\", color=\"lightsalmon\", ax=ax1, width = 0.4, position=0)\n",
    "\n",
    "test_freq_perc.plot(kind=\"bar\", color=\"lightskyblue\", ax=ax2, width = 0.4, position=1)\n",
    "\n",
    "ax1.set_xlabel(\"Participant\")\n",
    "ax1.set_ylabel(\"Percentage correct trials\")\n",
    "ax2.set_ylabel(\"Percentage correct test questions\")\n",
    "ax2.set_ybound(upper=100)\n",
    "ax1.set_ybound(upper=100)\n",
    "\n",
    "fig.savefig(\"correct.png\", dpi=300, bbox_inches = \"tight\", transparent=True)"
   ]
  },
  {
   "cell_type": "code",
   "execution_count": null,
   "metadata": {},
   "outputs": [],
   "source": [
    "test_flipped = get_flipped(test_df, is_test=True)\n",
    "\n",
    "exp_flipped = get_flipped(experiment_df)\n",
    "\n",
    "exp_stats_flipped = get_correct_scores(exp_flipped)\n",
    "\n",
    "test_stats_flipped = get_correct_scores(test_flipped)\n",
    "\n",
    "exp_stats = get_correct_scores(experiment_df)\n",
    "\n",
    "test_stats = get_correct_scores(test_df)\n",
    "\n",
    "print(test_stats[\"frequency\"])\n",
    "print(exp_stats[\"frequency\"])\n",
    "\n",
    "fig = plt.figure()\n",
    "\n",
    "ax1 = fig.add_subplot(111)\n",
    "ax2 = ax1.twinx()\n",
    "\n",
    "test_flip_freq_perc = test_stats_flipped[\"frequency\"] * 100\n",
    "\n",
    "exp_flip_freq_perc = exp_stats_flipped[\"frequency\"] * 100\n",
    "\n",
    "test_freq_perc = test_stats[\"frequency\"] * 100\n",
    "\n",
    "exp_freq_perc = exp_stats[\"frequency\"] * 100\n",
    "\n",
    "\n",
    "exp_flip_freq_perc.plot(kind=\"bar\", color=\"lightblue\", ax=ax1, width = 0.4, position=1)\n",
    "exp_freq_perc.plot(kind=\"bar\", color=\"blue\", ax=ax1, width = 0.4, position=1, alpha=0.4)\n",
    "\n",
    "test_flip_freq_perc.plot(kind=\"bar\", color=\"orangered\", ax=ax2, width = 0.4, position=0)\n",
    "test_freq_perc.plot(kind=\"bar\", color=\"orange\", ax=ax2, width = 0.4, position=0, alpha=0.5)\n",
    "\n",
    "ax1.set_xlabel(\"Participant\")\n",
    "ax1.set_ylabel(\"Correct Trials\")\n",
    "ax2.set_ylabel(\"Correct Test Questions\")\n",
    "ax2.set_ybound(upper=100)\n",
    "ax1.set_ybound(upper=100)\n",
    "\n",
    "fig.savefig(\"correct_flipped2.png\", dpi=300, bbox_inches = \"tight\", transparent=True)"
   ]
  },
  {
   "cell_type": "code",
   "execution_count": null,
   "metadata": {},
   "outputs": [],
   "source": [
    "test_flipped = get_flipped(test_df, is_test=True)\n",
    "\n",
    "exp_flipped = get_flipped(experiment_df)\n",
    "\n",
    "exp_stats_flipped = get_correct_scores(exp_flipped)\n",
    "\n",
    "test_stats_flipped = get_correct_scores(test_flipped)\n",
    "\n",
    "print(exp_stats_flipped)\n",
    "\n"
   ]
  },
  {
   "cell_type": "code",
   "execution_count": null,
   "metadata": {},
   "outputs": [],
   "source": [
    "print(test_stats_flipped)"
   ]
  }
 ],
 "metadata": {
  "kernelspec": {
   "display_name": "Python 3.9.7 ('.venv': venv)",
   "language": "python",
   "name": "python3"
  },
  "language_info": {
   "codemirror_mode": {
    "name": "ipython",
    "version": 3
   },
   "file_extension": ".py",
   "mimetype": "text/x-python",
   "name": "python",
   "nbconvert_exporter": "python",
   "pygments_lexer": "ipython3",
   "version": "3.9.7"
  },
  "orig_nbformat": 4,
  "vscode": {
   "interpreter": {
    "hash": "ce4c1b546583f9fe5eacffd437e33f024f9d70087f5f9b177a5f872df3e3f565"
   }
  }
 },
 "nbformat": 4,
 "nbformat_minor": 2
}

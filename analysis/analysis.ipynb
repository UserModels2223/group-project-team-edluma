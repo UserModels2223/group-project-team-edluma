{
 "cells": [
  {
   "cell_type": "code",
   "execution_count": null,
   "metadata": {},
   "outputs": [],
   "source": [
    "import pandas as pd\n",
    "import matplotlib.pyplot as plt\n",
    "from analysis import load_data, get_flipped, get_trial_stats, get_correct_scores, get_flipping_stats"
   ]
  },
  {
   "cell_type": "code",
   "execution_count": null,
   "metadata": {},
   "outputs": [],
   "source": [
    "test_df, experiment_df = load_data()"
   ]
  },
  {
   "cell_type": "code",
   "execution_count": null,
   "metadata": {},
   "outputs": [],
   "source": [
    "test_df.shape[0]"
   ]
  },
  {
   "cell_type": "code",
   "execution_count": null,
   "metadata": {},
   "outputs": [],
   "source": [
    "test_df.info()"
   ]
  },
  {
   "cell_type": "code",
   "execution_count": null,
   "metadata": {},
   "outputs": [],
   "source": [
    "test_df.groupby(\"subject\")[\"correct\"].value_counts().xs(True, level=1)"
   ]
  },
  {
   "cell_type": "code",
   "execution_count": null,
   "metadata": {},
   "outputs": [],
   "source": [
    "experiment_df.groupby(\"subject\")[\"correct\"].value_counts()"
   ]
  },
  {
   "cell_type": "code",
   "execution_count": null,
   "metadata": {},
   "outputs": [],
   "source": [
    "test_df.groupby(\"subject\")[\"correct\"].value_counts(normalize=True).xs(True,level=1).mean()"
   ]
  },
  {
   "cell_type": "code",
   "execution_count": null,
   "metadata": {},
   "outputs": [],
   "source": [
    "experiment_df[experiment_df[\"rt\"] < float(\"inf\")].groupby(\"subject\")[\"rt\"].describe()"
   ]
  },
  {
   "cell_type": "code",
   "execution_count": null,
   "metadata": {},
   "outputs": [],
   "source": [
    "experiment_df.groupby(\"subject\")[\"flipped\"].value_counts()"
   ]
  },
  {
   "cell_type": "code",
   "execution_count": null,
   "metadata": {},
   "outputs": [],
   "source": [
    "experiment_df[experiment_df[\"flipped\"] == True]"
   ]
  },
  {
   "cell_type": "code",
   "execution_count": null,
   "metadata": {},
   "outputs": [],
   "source": [
    "experiment_df[\"subject\"].value_counts()"
   ]
  },
  {
   "cell_type": "code",
   "execution_count": null,
   "metadata": {},
   "outputs": [],
   "source": [
    "df = get_flipped(test_df, is_test=True)\n",
    "get_correct_scores(df)"
   ]
  },
  {
   "cell_type": "code",
   "execution_count": null,
   "metadata": {},
   "outputs": [],
   "source": [
    "get_correct_scores(test_df)"
   ]
  },
  {
   "cell_type": "code",
   "execution_count": null,
   "metadata": {},
   "outputs": [],
   "source": [
    "experiment_df.groupby(\"subject\")[\"flipped\"].value_counts(normalize=True).xs(True,level=1)"
   ]
  },
  {
   "cell_type": "code",
   "execution_count": null,
   "metadata": {},
   "outputs": [],
   "source": [
    "print(get_correct_scores(experiment_df))"
   ]
  },
  {
   "cell_type": "code",
   "execution_count": null,
   "metadata": {},
   "outputs": [],
   "source": [
    "print(get_flipping_stats(experiment_df, is_test=True))"
   ]
  },
  {
   "cell_type": "code",
   "execution_count": null,
   "metadata": {},
   "outputs": [],
   "source": [
    "exp_stats = get_trial_stats(experiment_df)\n",
    "\n",
    "test_stats = get_trial_stats(test_df)\n",
    "\n",
    "print(test_stats[\"count\"])\n",
    "print(exp_stats[\"count\"])\n",
    "\n",
    "fig = plt.figure()\n",
    "\n",
    "ax1 = fig.add_subplot(111)\n",
    "ax2 = ax1.twinx()\n",
    "\n",
    "exp_stats[\"count\"].plot(kind=\"bar\", color=\"blue\", ax=ax1, width = 0.4, position=1)\n",
    "\n",
    "test_stats[\"count\"].plot(kind=\"bar\", color=\"orange\", ax=ax2, width = 0.4, position=0)\n",
    "\n",
    "ax1.set_xlabel(\"Participant\")\n",
    "ax1.set_ylabel(\"Number of Trials\")\n",
    "ax2.set_ylabel(\"Number of Learned Words\")\n",
    "ax2.set_ybound(upper=130)\n",
    "ax1.set_ybound(upper=130)\n",
    "\n",
    "fig.savefig(\"trials.png\", dpi=300, bbox_inches = \"tight\", transparent=True)"
   ]
  },
  {
   "cell_type": "code",
   "execution_count": null,
   "metadata": {},
   "outputs": [],
   "source": [
    "exp_stats = get_correct_scores(experiment_df)\n",
    "\n",
    "test_stats = get_correct_scores(test_df)\n",
    "\n",
    "print(test_stats[\"frequency\"])\n",
    "print(exp_stats[\"frequency\"])\n",
    "\n",
    "fig = plt.figure()\n",
    "\n",
    "ax1 = fig.add_subplot(111)\n",
    "ax2 = ax1.twinx()\n",
    "\n",
    "test_freq_perc = test_stats[\"frequency\"] * 100\n",
    "\n",
    "exp_freq_perc = exp_stats[\"frequency\"] * 100\n",
    "\n",
    "exp_freq_perc.plot(kind=\"bar\", color=\"orange\", ax=ax1, width = 0.4, position=0)\n",
    "\n",
    "test_freq_perc.plot(kind=\"bar\", color=\"blue\", ax=ax2, width = 0.4, position=1)\n",
    "\n",
    "ax1.set_xlabel(\"Participant\")\n",
    "ax1.set_ylabel(\"Correct Trials\")\n",
    "ax2.set_ylabel(\"Correct Test Questions\")\n",
    "ax2.set_ybound(upper=100)\n",
    "ax1.set_ybound(upper=100)\n",
    "\n",
    "fig.savefig(\"correct.png\", dpi=300, bbox_inches = \"tight\", transparent=True)"
   ]
  },
  {
   "cell_type": "code",
   "execution_count": null,
   "metadata": {},
   "outputs": [],
   "source": [
    "test_flipped = get_flipped(test_df, is_test=True)\n",
    "\n",
    "exp_flipped = get_flipped(experiment_df)\n",
    "\n",
    "exp_stats_flipped = get_correct_scores(exp_flipped)\n",
    "\n",
    "test_stats_flipped = get_correct_scores(test_flipped)\n",
    "\n",
    "exp_stats = get_correct_scores(experiment_df)\n",
    "\n",
    "test_stats = get_correct_scores(test_df)\n",
    "\n",
    "print(test_stats[\"frequency\"])\n",
    "print(exp_stats[\"frequency\"])\n",
    "\n",
    "fig = plt.figure()\n",
    "\n",
    "ax1 = fig.add_subplot(111)\n",
    "ax2 = ax1.twinx()\n",
    "\n",
    "test_flip_freq_perc = test_stats_flipped[\"frequency\"] * 100\n",
    "\n",
    "exp_flip_freq_perc = exp_stats_flipped[\"frequency\"] * 100\n",
    "\n",
    "test_freq_perc = test_stats[\"frequency\"] * 100\n",
    "\n",
    "exp_freq_perc = exp_stats[\"frequency\"] * 100\n",
    "\n",
    "\n",
    "exp_flip_freq_perc.plot(kind=\"bar\", color=\"lightblue\", ax=ax1, width = 0.4, position=1)\n",
    "exp_freq_perc.plot(kind=\"bar\", color=\"blue\", ax=ax1, width = 0.4, position=1, alpha=0.4)\n",
    "\n",
    "test_flip_freq_perc.plot(kind=\"bar\", color=\"orangered\", ax=ax2, width = 0.4, position=0)\n",
    "test_freq_perc.plot(kind=\"bar\", color=\"orange\", ax=ax2, width = 0.4, position=0, alpha=0.5)\n",
    "\n",
    "ax1.set_xlabel(\"Participant\")\n",
    "ax1.set_ylabel(\"Correct Trials\")\n",
    "ax2.set_ylabel(\"Correct Test Questions\")\n",
    "ax2.set_ybound(upper=100)\n",
    "ax1.set_ybound(upper=100)\n",
    "\n",
    "fig.savefig(\"correct_flipped2.png\", dpi=300, bbox_inches = \"tight\", transparent=True)"
   ]
  },
  {
   "cell_type": "code",
   "execution_count": null,
   "metadata": {},
   "outputs": [],
   "source": [
    "test_flipped = get_flipped(test_df, is_test=True)\n",
    "\n",
    "exp_flipped = get_flipped(experiment_df)\n",
    "\n",
    "exp_stats_flipped = get_correct_scores(exp_flipped)\n",
    "\n",
    "test_stats_flipped = get_correct_scores(test_flipped)\n",
    "\n",
    "print(exp_stats_flipped)\n",
    "\n"
   ]
  },
  {
   "cell_type": "code",
   "execution_count": null,
   "metadata": {},
   "outputs": [],
   "source": [
    "print(test_stats_flipped)"
   ]
  }
 ],
 "metadata": {
  "kernelspec": {
   "display_name": "Python 3.9.7 ('.venv': venv)",
   "language": "python",
   "name": "python3"
  },
  "language_info": {
   "codemirror_mode": {
    "name": "ipython",
    "version": 3
   },
   "file_extension": ".py",
   "mimetype": "text/x-python",
   "name": "python",
   "nbconvert_exporter": "python",
   "pygments_lexer": "ipython3",
   "version": "3.9.7"
  },
  "orig_nbformat": 4,
  "vscode": {
   "interpreter": {
    "hash": "ce4c1b546583f9fe5eacffd437e33f024f9d70087f5f9b177a5f872df3e3f565"
   }
  }
 },
 "nbformat": 4,
 "nbformat_minor": 2
}
